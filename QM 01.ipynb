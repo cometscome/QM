{
 "cells": [
  {
   "cell_type": "markdown",
   "metadata": {},
   "source": [
    "## Juliaで学ぶ量子力学\n",
    "時間に依存しないシュレーディンガー方程式を解いてみよう。\n",
    "\n",
    "# 座標表示\n",
    "一次元系のシュレーディンガー方程式は、\n",
    "$$\n",
    "\\left( -\\frac{\\hbar^2}{2m}\\frac{d^2}{dx^2} + V(x) \\right) \\psi(x) = \\epsilon \\psi(x)\n",
    "$$\n",
    "と書ける。この方程式は二階微分方程式なので、一般解には二つの未知定数が含まれ、それらの定数を決定するためには、この方程式の他に二つの方程式が必要となる。  \n",
    "これをはっきりさせるため、一番簡単な場合($V(x)=0)$を考えてみよう。  \n",
    "この時のシュレーディンガー方程式は\n",
    "$$\n",
    " -\\frac{\\hbar^2}{2m}\\frac{d^2}{dx^2} \\psi(x) = \\epsilon \\psi(x)\n",
    "$$\n",
    "となる。この方程式の解として指数関数：\n",
    "$$\n",
    "\\psi(x) = e^{i k x}\n",
    "$$\n",
    "を仮定すると、\n",
    "$$\n",
    " \\frac{\\hbar^2 k^2}{2m}  e^{i k x}= \\epsilon  e^{i k x}\n",
    "$$\n",
    "となるので、\n",
    "$$\n",
    "\\frac{\\hbar^2 k^2}{2m} = \\epsilon\n",
    "$$\n",
    "すなわち、\n",
    "$$\n",
    "k = \\pm \\frac{\\sqrt{2m \\epsilon}}{\\hbar}\n",
    "$$\n",
    "\n",
    "例えば、周期境界条件：\n",
    "$$\n",
    "\\psi(x + L) = \\psi\n",
    "$$\n"
   ]
  },
  {
   "cell_type": "code",
   "execution_count": null,
   "metadata": {
    "collapsed": true
   },
   "outputs": [],
   "source": []
  }
 ],
 "metadata": {
  "kernelspec": {
   "display_name": "Julia 0.6.1",
   "language": "julia",
   "name": "julia-0.6"
  },
  "language_info": {
   "file_extension": ".jl",
   "mimetype": "application/julia",
   "name": "julia",
   "version": "0.6.1"
  }
 },
 "nbformat": 4,
 "nbformat_minor": 2
}
