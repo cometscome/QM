{
 "cells": [
  {
   "cell_type": "markdown",
   "metadata": {},
   "source": [
    "## 波数表示でのシュレーディンガー方程式\n",
    "\n",
    "シュレーディンガー方程式を別の表示で書いてみる。  \n",
    "ベクトルの言葉で言えば、$\\psi(x)$をベクトル${\\bf \\psi}$の$x$成分である（離散化していれば$x_i$は$i$番目の要素）とみなせば、\n",
    "任意の基底のベクトル${\\bf c}$はユニタリー行列$U$を用いて\n",
    "$$\n",
    "{\\bf \\psi} = U{\\bf c}\n",
    "$$\n",
    "と書ける。\n",
    "成分表示だと\n",
    "$$\n",
    "\\psi_i = \\sum_k U_{ik} c_k\n",
    "$$\n",
    "となり、$U_{ik}$を\n",
    "$$\n",
    "U_{ik} = \\exp (i k x_i)\n",
    "$$\n",
    "とおけば、フーリエ変換となっていることがわかる。  \n",
    "離散化しない場合には、\n",
    "$$\n",
    "\\psi(x) = \\int dk \\exp (i k x) c_k\n",
    "$$\n",
    "である。  以後、数学的厳密性は無視して、積分はすべて$\\sum$で書くことにする。係数は適当に含まれているとする。  \n",
    "このとき、\n",
    "$$\n",
    "\\sum_k \\left( \\frac{\\hbar^2}{2m}k^2 + V(x) \\right) \\exp (i k x) c_k = \\epsilon \\sum_k \\exp (i k x) c_k\n",
    "$$\n",
    "となる。ここで、ポテンシャル$V(x)$をフーリエ変換すると\n",
    "$$\n",
    "V(x) = \\sum_q \\exp(i q x) V_q\n",
    "$$\n",
    "となるので、\n",
    "$\\exp (- i k' x)$をかけて$x$で積分すると\n",
    "$$\n",
    "\\sum_x \\sum_k \\left( \\frac{\\hbar^2}{2m}k^2 + \\left(\\sum_q \\exp(i q x) V_q \\right) \\right) \\exp (i (k-k') x) c_k = \\epsilon \\sum_x \\sum_k \\exp (i (k-k') x) c_k\n",
    "$$\n",
    "$$\n",
    "\\frac{\\hbar^2}{2m}k'^2 c_{k'}  + \\sum_x \\sum_q \\sum_{k} V_q  \\exp (i (q + k-k') x) c_k = \\epsilon  c_{k'}\n",
    "$$\n",
    "$$\n",
    "\\frac{\\hbar^2}{2m}k'^2 c_{k'}  + \\sum_{k} V_{k'-k}  c_k = \\epsilon  c_{k'}\n",
    "$$\n",
    "となる。これが波数表示のシュレーディンガー方程式である。\n",
    "ここで、\n",
    "$$\n",
    "\\sum_x \\exp (i (k-k') x) = \\delta_{k,k'}\n",
    "$$\n",
    "を用いた。これは、直感的には、位相の異なる波は全部足しあわせて消えてしまうけれど、位相の同じ波$k=k'$の時だけ残る、ということを表している。\n",
    "\n"
   ]
  },
  {
   "cell_type": "markdown",
   "metadata": {},
   "source": [
    "### まだ未完"
   ]
  },
  {
   "cell_type": "code",
   "execution_count": null,
   "metadata": {},
   "outputs": [],
   "source": []
  }
 ],
 "metadata": {
  "kernelspec": {
   "display_name": "Julia 0.6.0",
   "language": "julia",
   "name": "julia-0.6"
  },
  "language_info": {
   "file_extension": ".jl",
   "mimetype": "application/julia",
   "name": "julia",
   "version": "0.6.0"
  }
 },
 "nbformat": 4,
 "nbformat_minor": 2
}
